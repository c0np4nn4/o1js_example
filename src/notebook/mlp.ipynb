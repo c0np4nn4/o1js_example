{
  "cells": [
    {
      "cell_type": "markdown",
      "metadata": {
        "id": "H4kab9K5JoXF"
      },
      "source": [
        "## MLP Implementation using PyTorch and o1js\n",
        "\n",
        "This notebook demonstrates how to create a Multi-Layer Perceptron (MLP) model in PyTorch, mimicking the structure of an MLP defined using `o1js` in TypeScript. The goal is to compare the outputs of both models."
      ]
    },
    {
      "cell_type": "code",
      "metadata": {
        "id": "vsq20gN0JoXH"
      },
      "source": [
        "# Import necessary libraries\n",
        "import torch\n",
        "import torch.nn as nn\n",
        "import numpy as np"
      ],
      "execution_count": 1,
      "outputs": []
    },
    {
      "cell_type": "markdown",
      "metadata": {
        "id": "OKE8iiuEJoXH"
      },
      "source": [
        "### Define the MLP Model in PyTorch"
      ]
    },
    {
      "cell_type": "code",
      "metadata": {
        "colab": {
          "base_uri": "https://localhost:8080/"
        },
        "id": "_b3HmpGZJoXI",
        "outputId": "04d89f5d-546d-4900-9676-a09602a029ec"
      },
      "source": [
        "# Define the MLP class with the same structure as the o1js MLP\n",
        "class MLP(nn.Module):\n",
        "    def __init__(self):\n",
        "        super(MLP, self).__init__()\n",
        "        self.hidden1 = nn.Linear(5, 1)\n",
        "        self.hidden2 = nn.Linear(1, 1)\n",
        "        self.output = nn.Linear(1, 1)\n",
        "        self.relu = nn.ReLU()\n",
        "\n",
        "    def forward(self, x):\n",
        "        x = self.relu(self.hidden1(x))\n",
        "        x = self.relu(self.hidden2(x.repeat(1, 5)))  # Simulate passing the same value 5 times\n",
        "        x = self.output(x)\n",
        "        return x\n",
        "\n",
        "# Initialize the model\n",
        "model = MLP()\n",
        "model"
      ],
      "execution_count": 6,
      "outputs": [
        {
          "output_type": "execute_result",
          "data": {
            "text/plain": [
              "MLP(\n",
              "  (hidden1): Linear(in_features=1, out_features=5, bias=True)\n",
              "  (hidden2): Linear(in_features=1, out_features=1, bias=True)\n",
              "  (output): Linear(in_features=1, out_features=1, bias=True)\n",
              "  (relu): ReLU()\n",
              ")"
            ]
          },
          "metadata": {},
          "execution_count": 6
        }
      ]
    },
    {
      "cell_type": "markdown",
      "metadata": {
        "id": "APS_k45OJoXI"
      },
      "source": [
        "### Define Weights and Biases to Match o1js Implementation"
      ]
    },
    {
      "cell_type": "code",
      "metadata": {
        "id": "EAQW-x4DJoXI"
      },
      "source": [
        "# Manually set the weights and biases to match the o1js example\n",
        "with torch.no_grad():\n",
        "    model.hidden1.weight = nn.Parameter(torch.tensor([[2.0, 4.0, 3.0, 1.0, 5.0]]))\n",
        "    model.hidden1.bias = nn.Parameter(torch.tensor([3.0]))\n",
        "\n",
        "    model.hidden2.weight = nn.Parameter(torch.tensor([[3.0, 1.0, 4.0, 2.0, 6.0]]))\n",
        "    model.hidden2.bias = nn.Parameter(torch.tensor([2.0]))\n",
        "\n",
        "    model.output.weight = nn.Parameter(torch.tensor([[1.0]]))\n",
        "    model.output.bias = nn.Parameter(torch.tensor([5.0]))"
      ],
      "execution_count": 9,
      "outputs": []
    },
    {
      "cell_type": "markdown",
      "metadata": {
        "id": "XUZxPWm5JoXI"
      },
      "source": [
        "### Test the Model with Input Data"
      ]
    },
    {
      "cell_type": "code",
      "metadata": {
        "colab": {
          "base_uri": "https://localhost:8080/"
        },
        "id": "iZYEQ9cbJoXJ",
        "outputId": "037fbfd5-d0b1-45fa-c36f-212dace8be17"
      },
      "source": [
        "# Create input data (same as in o1js example)\n",
        "input_data = torch.tensor([25.0, 15.0, 10.0, 5.0, 3.0]).unsqueeze(0)  # Shape: [1, 5]\n",
        "\n",
        "# Perform forward pass through the network\n",
        "output = model(input_data)\n",
        "output.item()"
      ],
      "execution_count": 10,
      "outputs": [
        {
          "output_type": "execute_result",
          "data": {
            "text/plain": [
              "2615.0"
            ]
          },
          "metadata": {},
          "execution_count": 10
        }
      ]
    }
  ],
  "metadata": {
    "kernelspec": {
      "display_name": "Python 3",
      "language": "python",
      "name": "python3"
    },
    "language_info": {
      "name": "python",
      "version": "3.8.5",
      "mimetype": "text/x-python",
      "codemirror_mode": {
        "name": "ipython",
        "version": 3
      },
      "pygments_lexer": "ipython3",
      "nbconvert_exporter": "python",
      "file_extension": ".py"
    },
    "colab": {
      "provenance": []
    }
  },
  "nbformat": 4,
  "nbformat_minor": 0
}
